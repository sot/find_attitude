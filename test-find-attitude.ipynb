{
 "cells": [
  {
   "cell_type": "markdown",
   "metadata": {},
   "source": [
    "# Validation of find_attitude\n",
    "\n",
    "This notebook run pseudo-random tests of the find_attitude algorithm covering many\n",
    "attitudes, star inputs, and potential pitch or estimate attitude constraints.\n",
    "\n",
    "Summary:\n",
    "- Two-star solutions are dubious with ~30% being wrong.\n",
    "- Using pitch and attitude constraints successfully limits the solution space.\n",
    "- Even with no constraints, an attitude is successfully found with at least 4 stars."
   ]
  },
  {
   "cell_type": "code",
   "execution_count": 1,
   "metadata": {},
   "outputs": [],
   "source": [
    "import pickle\n",
    "import sys\n",
    "import traceback\n",
    "from pathlib import Path\n",
    "\n",
    "sys.path.insert(0, \"/Users/aldcroft/git/ska_sun\")\n",
    "sys.path.insert(0, \"/Users/aldcroft/git/ska_helpers\")\n",
    "\n",
    "import astropy.units as u\n",
    "import numpy as np\n",
    "import ska_sun\n",
    "from cxotime import CxoTime\n",
    "from Quaternion import Quat\n",
    "from ska_helpers.utils import random_radec_in_cone\n",
    "from tqdm import tqdm\n",
    "\n",
    "import find_attitude as fa\n",
    "import find_attitude.find_attitude as fafa\n",
    "from find_attitude.tests import test_find_attitude"
   ]
  },
  {
   "cell_type": "code",
   "execution_count": 2,
   "metadata": {},
   "outputs": [],
   "source": [
    "# Cache inputs to tests that fail\n",
    "FAILS = []"
   ]
  },
  {
   "cell_type": "code",
   "execution_count": 3,
   "metadata": {},
   "outputs": [],
   "source": [
    "def get_random_attitude(constraints: fa.Constraints) -> Quat:\n",
    "    \"\"\"\n",
    "    Generates a random attitude based on the given constraints.\n",
    "\n",
    "    Parameters\n",
    "    ----------\n",
    "    constraints : fa.Constraints\n",
    "        The constraints for generating the attitude.\n",
    "\n",
    "    Returns\n",
    "    -------\n",
    "    Quat\n",
    "        Randomly generated attitude.\n",
    "\n",
    "    \"\"\"\n",
    "    date = constraints.date\n",
    "\n",
    "    # Back off from constraint off_nom_roll_max by 0.5 degrees to avoid randomly\n",
    "    # generating an attitude that is too close to the constraint.\n",
    "    onrm = max(0.0, constraints.off_nom_roll_max - 0.5)\n",
    "    off_nom_roll = np.random.uniform(-onrm, onrm)\n",
    "\n",
    "    if constraints.att is not None:\n",
    "        att0 = Quat(constraints.att)\n",
    "        # Back off from constraint att_err by 0.5 degrees (same as off_nom_roll).\n",
    "        att_err = max(0.0, constraints.att_err - 0.5)\n",
    "        ra, dec = random_radec_in_cone(att0.ra, att0.dec, att_err)\n",
    "        roll0 = ska_sun.nominal_roll(ra, dec, time=date)\n",
    "        roll = roll0 + off_nom_roll\n",
    "        att = Quat([ra, dec, roll])\n",
    "\n",
    "    elif constraints.pitch is not None:\n",
    "        pitch_err = max(0.0, constraints.pitch_err - 0.5)\n",
    "        d_pitch = np.random.uniform(pitch_err, pitch_err)\n",
    "        pitch = constraints.pitch + d_pitch\n",
    "        yaw = np.random.uniform(0, 360)\n",
    "        att = ska_sun.get_att_for_sun_pitch_yaw(\n",
    "            pitch, yaw, time=date, off_nom_roll=off_nom_roll\n",
    "        )\n",
    "\n",
    "    else:\n",
    "        ra = np.random.uniform(0, 360)\n",
    "        dec = np.rad2deg(np.arccos(np.random.uniform(-1, 1))) - 90\n",
    "        roll = ska_sun.nominal_roll(ra, dec, time=date) + off_nom_roll\n",
    "        att = Quat([ra, dec, roll])\n",
    "\n",
    "    return att"
   ]
  },
  {
   "cell_type": "code",
   "execution_count": 4,
   "metadata": {},
   "outputs": [],
   "source": [
    "def test_random_all_sky(\n",
    "    sigma_1axis=1.0,\n",
    "    sigma_mag=0.2,\n",
    "    brightest=True,\n",
    "    constraints=None,\n",
    "    tolerance=2.5,\n",
    "    min_stars=4,\n",
    "    max_stars=8,\n",
    "    log_level=\"WARNING\",\n",
    "    sherpa_log_level=\"WARNING\",\n",
    "    save_fails=False,\n",
    "):\n",
    "    if constraints is None:\n",
    "        constraints = fa.Constraints(off_nom_roll_max=20, date=\"2025:001\")\n",
    "\n",
    "    n_stars = np.random.randint(min_stars, max_stars + 1)\n",
    "\n",
    "    while True:\n",
    "        att = get_random_attitude(constraints)\n",
    "        stars = test_find_attitude.get_stars(\n",
    "            att.ra,\n",
    "            att.dec,\n",
    "            att.roll,\n",
    "            sigma_1axis=sigma_1axis,\n",
    "            sigma_mag=sigma_mag,\n",
    "            brightest=brightest,\n",
    "            date=constraints.date,\n",
    "        )\n",
    "        if len(stars) >= n_stars:\n",
    "            break\n",
    "\n",
    "    stars = stars[:n_stars]\n",
    "    solutions = []\n",
    "    try:\n",
    "        solutions = fa.find_attitude_solutions(\n",
    "            stars,\n",
    "            tolerance=tolerance,\n",
    "            constraints=constraints,\n",
    "            log_level=log_level,\n",
    "            sherpa_log_level=sherpa_log_level,\n",
    "        )\n",
    "\n",
    "        for solution in solutions:\n",
    "            solution[\"att\"] = att\n",
    "\n",
    "        test_find_attitude.check_output(solutions, stars, att.ra, att.dec, att.roll)\n",
    "    except Exception:\n",
    "        now = CxoTime.now().isot\n",
    "        tb_str = traceback.format_exc()\n",
    "        failed_test = {\n",
    "            \"date_run\": now,\n",
    "            \"stars\": stars,\n",
    "            \"tolerance\": tolerance,\n",
    "            \"solutions\": solutions,\n",
    "            \"att\": att,\n",
    "            \"constraints\": constraints,\n",
    "            \"traceback\": tb_str,\n",
    "        }\n",
    "        print(f\"Failed test cached as FAILS[{len(FAILS)}]\")\n",
    "        FAILS.append(failed_test)\n",
    "\n",
    "        if save_fails:\n",
    "            fn = Path(f\"failed_test_{now}.pkl\")\n",
    "            print(f\"Saving failed test to {fn.absolute()}\")\n",
    "            with open(fn, \"wb\") as fh:\n",
    "                pickle.dump(failed_test, fh)"
   ]
  },
  {
   "cell_type": "code",
   "execution_count": 5,
   "metadata": {},
   "outputs": [],
   "source": [
    "n_test = 100"
   ]
  },
  {
   "cell_type": "code",
   "execution_count": 6,
   "metadata": {},
   "outputs": [],
   "source": [
    "def test_n_stars(n_stars, tolerance=5.0, att_err=5.0, off_nom_roll_max=1.0):\n",
    "    # Get a random sun-pointed attitude anywhere on the sky for a time in 2024 or 2025\n",
    "    constraints_all_sky = fa.Constraints(\n",
    "        off_nom_roll_max=0.0,\n",
    "        date=CxoTime(\"2024:001\") + np.random.uniform(0, 2) * u.yr,\n",
    "    )\n",
    "    att_est = get_random_attitude(constraints_all_sky)\n",
    "\n",
    "    # Now run find attitude test with this constraint where the test attitude will be\n",
    "    # randomized consistent with the constraints. This selects stars at an attitude\n",
    "    # which is randomly displaced from the estimated attitude.\n",
    "    constraints = fa.Constraints(\n",
    "        off_nom_roll_max=off_nom_roll_max,\n",
    "        date=constraints_all_sky.date,\n",
    "        att=att_est,\n",
    "        att_err=att_err,\n",
    "    )\n",
    "    test_random_all_sky(\n",
    "        constraints=constraints,\n",
    "        tolerance=tolerance,\n",
    "        min_stars=n_stars,\n",
    "        max_stars=n_stars,\n",
    "    )"
   ]
  },
  {
   "cell_type": "markdown",
   "metadata": {},
   "source": [
    "### Test random all-sky with estimated attitude constraint and three stars\n",
    "\n",
    "Assumptions:\n",
    "\n",
    "- Three stars available\n",
    "- Estimated attitude which is accurate to 4 degrees\n",
    "- True off-nominal < 0.5 degree\n",
    "- Centroids accurate to 1 arcsec (1-axis 1-sigma)\n",
    "- Pair distance matching threshold +/- 5.0 arcsec\n",
    "\n",
    "A few percent of these can fail, but it seems that increasing the tolerance is a \n",
    "successful strategy in an estimated attitude constraint.\n",
    "\n",
    "The current pseudo-random set includes a very-high proper motion star (~6 arcsec/yr)\n",
    "that poses a challenge.\n",
    "\n",
    "**No output indicates a successful attitude determination within 1.0 arcsec of\n",
    "true attitude.**"
   ]
  },
  {
   "cell_type": "code",
   "execution_count": 7,
   "metadata": {},
   "outputs": [
    {
     "name": "stderr",
     "output_type": "stream",
     "text": [
      "100%|██████████| 100/100 [00:25<00:00,  3.90it/s]\n"
     ]
    }
   ],
   "source": [
    "np.random.seed(0)\n",
    "for _ in tqdm(range(n_test)):\n",
    "    test_n_stars(n_stars=3, tolerance=5.0, att_err=5.0, off_nom_roll_max=1.0)"
   ]
  },
  {
   "cell_type": "markdown",
   "metadata": {},
   "source": [
    "### Test random all-sky with estimated attitude constraint and two stars\n",
    "\n",
    "Assumptions:\n",
    "\n",
    "- Two stars available\n",
    "- Estimated attitude which is accurate to 4 degrees\n",
    "- True off-nominal < 0.5 degree\n",
    "- Centroids accurate to 1 arcsec (1-axis 1-sigma)\n",
    "- Pair distance matching threshold +/- 5.0 arcsec\n",
    "\n",
    "This is less reliable and the solutions are potentially dubious. Supplying only two\n",
    "stars currently requires a \"code patch\" to remind us that we cannot put too much trust\n",
    "in the solution."
   ]
  },
  {
   "cell_type": "code",
   "execution_count": 8,
   "metadata": {},
   "outputs": [
    {
     "name": "stderr",
     "output_type": "stream",
     "text": [
      " 30%|███       | 3/10 [00:09<00:18,  2.66s/it]"
     ]
    },
    {
     "name": "stdout",
     "output_type": "stream",
     "text": [
      "Failed test cached as FAILS[0]\n"
     ]
    },
    {
     "name": "stderr",
     "output_type": "stream",
     "text": [
      " 60%|██████    | 6/10 [00:27<00:21,  5.32s/it]"
     ]
    },
    {
     "name": "stdout",
     "output_type": "stream",
     "text": [
      "Failed test cached as FAILS[1]\n"
     ]
    },
    {
     "name": "stderr",
     "output_type": "stream",
     "text": [
      " 70%|███████   | 7/10 [00:31<00:15,  5.02s/it]"
     ]
    },
    {
     "name": "stdout",
     "output_type": "stream",
     "text": [
      "Failed test cached as FAILS[2]\n"
     ]
    },
    {
     "name": "stderr",
     "output_type": "stream",
     "text": [
      "100%|██████████| 10/10 [00:40<00:00,  4.02s/it]\n"
     ]
    }
   ],
   "source": [
    "np.random.seed(5)\n",
    "import find_attitude.find_attitude as fafa\n",
    "\n",
    "fafa.MIN_STARS_ATT_CONSTRAINT = 2\n",
    "for _ in tqdm(range(10)):\n",
    "    test_n_stars(n_stars=2, tolerance=5.0, att_err=5.0, off_nom_roll_max=1.0)\n",
    "fafa.MIN_STARS_ATT_CONSTRAINT = 3"
   ]
  },
  {
   "cell_type": "markdown",
   "metadata": {},
   "source": [
    "### Random attitude on sky with no constraints\n",
    "\n",
    "This is similar to the legacy find_attitude except for the off-nominal roll constraint.\n",
    "\n",
    "- Uses between 4 to 8 stars (randomly selected) for each attitude.\n",
    "- True off-nominal roll < 1 degree\n",
    "- Centroids accurate to 1.0 arcsec (1-axis 1-sigma)\n",
    "- Pair distance matching threshold +/- 3.5 arcsec"
   ]
  },
  {
   "cell_type": "code",
   "execution_count": 9,
   "metadata": {},
   "outputs": [
    {
     "name": "stderr",
     "output_type": "stream",
     "text": [
      "100%|██████████| 50/50 [02:09<00:00,  2.59s/it]\n"
     ]
    }
   ],
   "source": [
    "np.random.seed(10)\n",
    "for _ in tqdm(range(n_test // 2)):\n",
    "    test_random_all_sky(constraints=None, tolerance=3.5)"
   ]
  },
  {
   "cell_type": "markdown",
   "metadata": {},
   "source": [
    "### Random attitude with pitch near 160 degrees without estimated attitude\n",
    "\n",
    "- 3 stars available\n",
    "- True off-nominal < 1 degree\n",
    "- Centroids accurate to 1.0 arcsec (1-axis 1-sigma)\n",
    "- Pair distance matching threshold +/- 4.0 arcsec\n"
   ]
  },
  {
   "cell_type": "code",
   "execution_count": 10,
   "metadata": {},
   "outputs": [
    {
     "name": "stderr",
     "output_type": "stream",
     "text": [
      "100%|██████████| 100/100 [00:28<00:00,  3.50it/s]\n"
     ]
    }
   ],
   "source": [
    "np.random.seed(20)\n",
    "for _ in tqdm(range(n_test)):\n",
    "    constraints = fa.Constraints(\n",
    "        off_nom_roll_max=1.0,\n",
    "        date=CxoTime(\"2024:001\") + np.random.uniform(0, 2) * u.yr,\n",
    "        pitch=160,\n",
    "        pitch_err=1.5,\n",
    "    )\n",
    "    test_random_all_sky(\n",
    "        constraints=constraints, tolerance=4.0, min_stars=3, max_stars=3\n",
    "    )"
   ]
  },
  {
   "cell_type": "markdown",
   "metadata": {},
   "source": [
    "### Debug a failed two-star solution"
   ]
  },
  {
   "cell_type": "code",
   "execution_count": 11,
   "metadata": {},
   "outputs": [],
   "source": [
    "fafa.MIN_STARS_ATT_CONSTRAINT = 2\n",
    "\n",
    "fail = FAILS[-1]\n",
    "sols = fa.find_attitude_solutions(\n",
    "    fail[\"stars\"],\n",
    "    tolerance=fail[\"tolerance\"],\n",
    "    constraints=fail[\"constraints\"],\n",
    "    log_level=\"WARNING\",\n",
    "    sherpa_log_level=\"WARNING\",\n",
    ")\n",
    "\n",
    "# Get the attitude error (true vs find_attitude solution) in arcsec\n",
    "for sol in sols:\n",
    "    d_att = fail[\"att\"].dq(sol[\"att_fit\"])\n",
    "    sol[\"ra_dec_roll_err\"] = [\n",
    "        np.round(x * 3600, 2) for x in (d_att.pitch, d_att.yaw, d_att.roll0)\n",
    "    ]\n",
    "\n",
    "fafa.MIN_STARS_ATT_CONSTRAINT = 3"
   ]
  },
  {
   "cell_type": "code",
   "execution_count": 12,
   "metadata": {},
   "outputs": [
    {
     "name": "stdout",
     "output_type": "stream",
     "text": [
      "[{'agasc_id_star_map': {36048416: 0, 36438608: 1},\n",
      "  'agasc_ids': {36048416, 36438608},\n",
      "  'att_fit': <Quat q1=-0.00744833 q2=-0.86261870 q3=0.50271825 q4=0.05574823>,\n",
      "  'bad_fit': False,\n",
      "  'm_yags': array([ 2484.01417237, -1355.1917244 ]),\n",
      "  'm_zags': array([1520.60813254, 2256.86707141]),\n",
      "  'ra_dec_roll_err': [7611.78, -4448.23, -10348.51],\n",
      "  'statval': 2.4176646230805034,\n",
      "  'summary': <Table masked=True length=2>\n",
      "AGASC_ID    RA      DEC     YAG    ...  m_zag     dz      dr   m_agasc_id\n",
      " int32   float64  float64 float64  ... float64 float64 float64   int64   \n",
      "-------- -------- ------- -------- ... ------- ------- ------- ----------\n",
      "35653760 177.4450  2.2317  2485.06 ... 1520.61   -0.34    1.10   36048416\n",
      "36183880 178.1063  3.0944 -1356.24 ... 2256.87    0.34    1.10   36438608,\n",
      "  'yags': <Column name='YAG' dtype='float64' length=2>\n",
      "  2485.058519307462\n",
      "-1356.2360345987986,\n",
      "  'zags': <Column name='ZAG' dtype='float64' length=2>\n",
      "1520.2642480460638\n",
      " 2257.210820979054},\n",
      " {'agasc_id_star_map': {35653760: 0, 36183880: 1},\n",
      "  'agasc_ids': {35653760, 36183880},\n",
      "  'att_fit': <Quat q1=-0.00553915 q2=-0.85047720 q3=0.52484500 q4=0.03457708>,\n",
      "  'bad_fit': False,\n",
      "  'm_yags': array([ 2485.29047638, -1356.46799164]),\n",
      "  'm_zags': array([1520.38340496, 2257.0915884 ]),\n",
      "  'ra_dec_roll_err': [0.39, 0.27, 107.81],\n",
      "  'statval': 0.13602292788409442,\n",
      "  'summary': <Table masked=True length=2>\n",
      "AGASC_ID    RA      DEC     YAG    ...  m_zag     dz      dr   m_agasc_id\n",
      " int32   float64  float64 float64  ... float64 float64 float64   int64   \n",
      "-------- -------- ------- -------- ... ------- ------- ------- ----------\n",
      "35653760 177.4450  2.2317  2485.06 ... 1520.38   -0.12    0.26   35653760\n",
      "36183880 178.1063  3.0944 -1356.24 ... 2257.09    0.12    0.26   36183880,\n",
      "  'yags': <Column name='YAG' dtype='float64' length=2>\n",
      "  2485.058519307462\n",
      "-1356.2360345987986,\n",
      "  'zags': <Column name='ZAG' dtype='float64' length=2>\n",
      "1520.2642480460638\n",
      " 2257.210820979054}]\n"
     ]
    }
   ],
   "source": [
    "# The two solutions include one that is close to the true attitude and one that is\n",
    "# far away. Check the ra_dec_roll_err for the two solutions.\n",
    "import pprint\n",
    "\n",
    "pprint.pprint(sols)"
   ]
  },
  {
   "cell_type": "markdown",
   "metadata": {},
   "source": [
    "### Real-life NSM recovery 2024:036\n"
   ]
  },
  {
   "cell_type": "markdown",
   "metadata": {},
   "source": [
    "#### Start with FFS around 2024:036:02:30:00 with ACA CCD at -1 C. Two stars were found."
   ]
  },
  {
   "cell_type": "code",
   "execution_count": 13,
   "metadata": {},
   "outputs": [
    {
     "data": {
      "text/html": [
       "<div><i>Table length=2</i>\n",
       "<table id=\"table5644362000\" class=\"table-striped table-bordered table-condensed\">\n",
       "<thead><tr><th>slot</th><th>YAG</th><th>ZAG</th><th>MAG_ACA</th></tr></thead>\n",
       "<thead><tr><th>int64</th><th>float64</th><th>float64</th><th>float64</th></tr></thead>\n",
       "<tr><td>3</td><td>2255.55</td><td>1501.58</td><td>8.35</td></tr>\n",
       "<tr><td>7</td><td>-2238.57</td><td>-1634.20</td><td>6.04</td></tr>\n",
       "</table></div>"
      ],
      "text/plain": [
       "<Table length=2>\n",
       " slot   YAG      ZAG    MAG_ACA\n",
       "int64 float64  float64  float64\n",
       "----- -------- -------- -------\n",
       "    3  2255.55  1501.58    8.35\n",
       "    7 -2238.57 -1634.20    6.04"
      ]
     },
     "execution_count": 13,
     "metadata": {},
     "output_type": "execute_result"
    }
   ],
   "source": [
    "att_nsm = [-0.062141268, -0.054177772, 0.920905180, 0.380968348]\n",
    "date_nsm = \"2024:036:03:02:38.343\"\n",
    "slots = [3, 7]\n",
    "stars = fa.get_stars_from_maude(date_nsm, slots=slots)\n",
    "stars"
   ]
  },
  {
   "cell_type": "code",
   "execution_count": 14,
   "metadata": {},
   "outputs": [],
   "source": [
    "constraints = fa.Constraints(\n",
    "    off_nom_roll_max=1.0,\n",
    "    date=date_nsm,\n",
    "    att=att_nsm,\n",
    "    att_err=5.0,\n",
    ")\n",
    "\n",
    "fafa.MIN_STARS_ATT_CONSTRAINT = 2\n",
    "sols = fa.find_attitude_solutions(\n",
    "    stars,\n",
    "    tolerance=2.5,\n",
    "    constraints=constraints,\n",
    "    log_level=\"WARNING\",\n",
    "    sherpa_log_level=\"WARNING\",\n",
    ")\n",
    "fafa.MIN_STARS_ATT_CONSTRAINT = 3"
   ]
  },
  {
   "cell_type": "code",
   "execution_count": 15,
   "metadata": {},
   "outputs": [
    {
     "data": {
      "text/plain": [
       "[{'yags': <Column name='YAG' dtype='float64' format='.2f' length=2>\n",
       "  -2238.57\n",
       "   2255.55,\n",
       "  'zags': <Column name='ZAG' dtype='float64' format='.2f' length=2>\n",
       "  -1634.20\n",
       "   1501.58,\n",
       "  'm_yags': array([-2237.92042592,  2254.90377841]),\n",
       "  'm_zags': array([-1633.50580482,  1500.88497425]),\n",
       "  'att_fit': <Quat q1=-0.11128925 q2=-0.10379516 q3=0.90382672 q4=0.39992314>,\n",
       "  'statval': 1.8106441183294293,\n",
       "  'agasc_id_star_map': {638978032: 1, 639119424: 0},\n",
       "  'agasc_ids': {638978032, 639119424},\n",
       "  'summary': <Table masked=True length=2>\n",
       "   slot   YAG      ZAG    MAG_ACA  m_yag   ...  m_zag      dz      dr   m_agasc_id\n",
       "  int64 float64  float64  float64 float64  ... float64  float64 float64   int64   \n",
       "  ----- -------- -------- ------- -------- ... -------- ------- ------- ----------\n",
       "      3  2255.55  1501.58    8.35  2254.90 ...  1500.88    0.70    0.95  639119424\n",
       "      7 -2238.57 -1634.20    6.04 -2237.92 ... -1633.51   -0.70    0.95  638978032,\n",
       "  'bad_fit': False}]"
      ]
     },
     "execution_count": 15,
     "metadata": {},
     "output_type": "execute_result"
    }
   ],
   "source": [
    "# An attitude is found. Do we trust it for much?\n",
    "sols"
   ]
  },
  {
   "cell_type": "markdown",
   "metadata": {},
   "source": [
    "#### FFS at around 2024:036:20:30:00 with CCD at -5.4 C and pitch=160\n",
    "\n",
    "Slots 1 and 2 are junk. Slot 4 is a star but very faint, so let's exclude that."
   ]
  },
  {
   "cell_type": "code",
   "execution_count": 16,
   "metadata": {},
   "outputs": [
    {
     "data": {
      "text/html": [
       "<div><i>Table length=5</i>\n",
       "<table id=\"table5730002192\" class=\"table-striped table-bordered table-condensed\">\n",
       "<thead><tr><th>slot</th><th>YAG</th><th>ZAG</th><th>MAG_ACA</th></tr></thead>\n",
       "<thead><tr><th>int64</th><th>float64</th><th>float64</th><th>float64</th></tr></thead>\n",
       "<tr><td>0</td><td>1758.39</td><td>-1362.11</td><td>8.45</td></tr>\n",
       "<tr><td>3</td><td>2103.84</td><td>-2043.00</td><td>9.12</td></tr>\n",
       "<tr><td>5</td><td>706.08</td><td>-553.34</td><td>9.00</td></tr>\n",
       "<tr><td>6</td><td>-119.61</td><td>1939.14</td><td>7.25</td></tr>\n",
       "<tr><td>7</td><td>2157.80</td><td>-2080.83</td><td>8.44</td></tr>\n",
       "</table></div>"
      ],
      "text/plain": [
       "<Table length=5>\n",
       " slot   YAG     ZAG    MAG_ACA\n",
       "int64 float64 float64  float64\n",
       "----- ------- -------- -------\n",
       "    0 1758.39 -1362.11    8.45\n",
       "    3 2103.84 -2043.00    9.12\n",
       "    5  706.08  -553.34    9.00\n",
       "    6 -119.61  1939.14    7.25\n",
       "    7 2157.80 -2080.83    8.44"
      ]
     },
     "execution_count": 16,
     "metadata": {},
     "output_type": "execute_result"
    }
   ],
   "source": [
    "date_nsm2 = \"2024:036:20:31:57.917\"\n",
    "att_nsm2 = [-0.053039170, -0.057369091, 0.921360182, 0.380776903]\n",
    "slots2 = [0, 3, 5, 6, 7]\n",
    "stars2 = fa.get_stars_from_maude(date_nsm2, slots=slots2)\n",
    "stars2"
   ]
  },
  {
   "cell_type": "markdown",
   "metadata": {},
   "source": [
    "#### Find attitude using only pitch constraint"
   ]
  },
  {
   "cell_type": "code",
   "execution_count": 17,
   "metadata": {},
   "outputs": [
    {
     "name": "stderr",
     "output_type": "stream",
     "text": [
      "2024-08-07 09:17:52,420 Using AGASC pairs file /Users/aldcroft/ska/data/find_attitude/distances.h5\n",
      "2024-08-07 09:17:52,427 Starting get_match_graph\n",
      "2024-08-07 09:17:52,427 Getting matches from file\n",
      "2024-08-07 09:17:52,551 Adding edges from 371 matching distance pairs\n",
      "2024-08-07 09:17:52,552 Added total of 89 nodes\n",
      "2024-08-07 09:17:52,553 Getting all triangles from match graph\n",
      "2024-08-07 09:17:52,554 Finding triangles that match stars pattern\n",
      "2024-08-07 09:17:52,554 Checking clique [638201840, 638727896, 638725736, 638724056, 638720752]\n",
      "2024-08-07 09:17:52,554 Done with graph matching\n",
      "2024-08-07 09:17:52,555 Found 1 possible AGASC-ID to star index maps\n",
      "2024-08-07 09:17:52,555 Finding attitude for {638201840: 3, 638727896: 1, 638725736: 0, 638720752: 4, 638724056: 2} stars\n",
      "2024-08-07 09:17:52,717 Found attitude <Quat q1=-0.06598975 q2=-0.06480277 q3=0.91930096 q4=0.38253327> with statval 5.491245830885055\n",
      "2024-08-07 09:17:52,718 Adding solution for {638201840, 638720752, 638724056, 638727896, 638725736} with statval 5.491245830885055\n"
     ]
    }
   ],
   "source": [
    "constraints = fa.Constraints(\n",
    "    off_nom_roll_max=3.0,\n",
    "    date=date_nsm2,\n",
    "    att=att_nsm2,\n",
    "    att_err=5.0,\n",
    ")\n",
    "\n",
    "sols2 = fa.find_attitude_solutions(\n",
    "    stars2,\n",
    "    tolerance=2.5,\n",
    "    constraints=constraints,\n",
    "    log_level=\"INFO\",\n",
    "    sherpa_log_level=\"WARNING\",\n",
    ")"
   ]
  },
  {
   "cell_type": "code",
   "execution_count": 18,
   "metadata": {},
   "outputs": [
    {
     "name": "stdout",
     "output_type": "stream",
     "text": [
      "slot   YAG     ZAG    MAG_ACA  m_yag    dy   m_zag     dz   dr  m_agasc_id\n",
      "---- ------- -------- ------- ------- ----- -------- ----- ---- ----------\n",
      "   0 1758.39 -1362.11    8.45 1758.67 -0.27 -1361.59 -0.51 0.58  638725736\n",
      "   3 2103.84 -2043.00    9.12 2104.17 -0.33 -2044.75  1.76 1.79  638727896\n",
      "   5  706.08  -553.34    9.00  706.49 -0.41  -553.52  0.18 0.44  638724056\n",
      "   6 -119.61  1939.14    7.25 -120.00  0.39  1939.53 -0.40 0.56  638201840\n",
      "   7 2157.80 -2080.83    8.44 2157.18  0.62 -2079.80 -1.03 1.20  638720752\n"
     ]
    }
   ],
   "source": [
    "sol2 = sols2[0]\n",
    "sol2[\"summary\"].pprint_all()"
   ]
  },
  {
   "cell_type": "code",
   "execution_count": 19,
   "metadata": {},
   "outputs": [
    {
     "data": {
      "text/plain": [
       "1.7693924862475114"
      ]
     },
     "execution_count": 19,
     "metadata": {},
     "output_type": "execute_result"
    }
   ],
   "source": [
    "ska_sun.off_nominal_roll(sol2[\"att_fit\"], time=date_nsm2)"
   ]
  },
  {
   "cell_type": "code",
   "execution_count": 21,
   "metadata": {},
   "outputs": [
    {
     "name": "stderr",
     "output_type": "stream",
     "text": [
      "2024-08-07 09:17:52,786 Using AGASC pairs file /Users/aldcroft/ska/data/find_attitude/distances.h5\n",
      "2024-08-07 09:17:52,802 Starting get_match_graph\n",
      "2024-08-07 09:17:52,802 Getting matches from file\n",
      "2024-08-07 09:17:52,932 Adding edges from 1723 matching distance pairs\n",
      "2024-08-07 09:17:52,935 Added total of 395 nodes\n",
      "2024-08-07 09:17:52,936 Getting all triangles from match graph\n",
      "2024-08-07 09:17:52,937 Finding triangles that match stars pattern\n",
      "2024-08-07 09:17:52,937 Checking clique [638201840, 638727896, 638725736, 638724056, 638720752]\n",
      "2024-08-07 09:17:52,938 Done with graph matching\n",
      "2024-08-07 09:17:52,938 Found 1 possible AGASC-ID to star index maps\n",
      "2024-08-07 09:17:52,939 Finding attitude for {638201840: 3, 638727896: 1, 638725736: 0, 638720752: 4, 638724056: 2} stars\n",
      "2024-08-07 09:17:53,107 Found attitude <Quat q1=-0.06598975 q2=-0.06480277 q3=0.91930096 q4=0.38253327> with statval 5.491245830885055\n",
      "2024-08-07 09:17:53,109 Adding solution for {638201840, 638720752, 638724056, 638727896, 638725736} with statval 5.491245830885055\n"
     ]
    }
   ],
   "source": [
    "constraints = fa.Constraints(\n",
    "    off_nom_roll_max=3.0,\n",
    "    date=date_nsm2,\n",
    "    pitch=160.0,\n",
    "    pitch_err=2.0,\n",
    ")\n",
    "\n",
    "sols3 = fa.find_attitude_solutions(\n",
    "    stars2,\n",
    "    tolerance=2.5,\n",
    "    constraints=constraints,\n",
    "    log_level=\"INFO\",\n",
    "    sherpa_log_level=\"WARNING\",\n",
    ")"
   ]
  },
  {
   "cell_type": "code",
   "execution_count": 22,
   "metadata": {},
   "outputs": [
    {
     "name": "stdout",
     "output_type": "stream",
     "text": [
      "slot   YAG     ZAG    MAG_ACA  m_yag    dy   m_zag     dz   dr  m_agasc_id\n",
      "---- ------- -------- ------- ------- ----- -------- ----- ---- ----------\n",
      "   0 1758.39 -1362.11    8.45 1758.67 -0.27 -1361.59 -0.51 0.58  638725736\n",
      "   3 2103.84 -2043.00    9.12 2104.17 -0.33 -2044.75  1.76 1.79  638727896\n",
      "   5  706.08  -553.34    9.00  706.49 -0.41  -553.52  0.18 0.44  638724056\n",
      "   6 -119.61  1939.14    7.25 -120.00  0.39  1939.53 -0.40 0.56  638201840\n",
      "   7 2157.80 -2080.83    8.44 2157.18  0.62 -2079.80 -1.03 1.20  638720752\n"
     ]
    }
   ],
   "source": [
    "sol2 = sols2[0]\n",
    "sol2[\"summary\"].pprint_all()"
   ]
  },
  {
   "cell_type": "code",
   "execution_count": null,
   "metadata": {},
   "outputs": [],
   "source": []
  }
 ],
 "metadata": {
  "kernelspec": {
   "display_name": "Python 3",
   "language": "python",
   "name": "python3"
  },
  "language_info": {
   "codemirror_mode": {
    "name": "ipython",
    "version": 3
   },
   "file_extension": ".py",
   "mimetype": "text/x-python",
   "name": "python",
   "nbconvert_exporter": "python",
   "pygments_lexer": "ipython3",
   "version": "3.11.8"
  }
 },
 "nbformat": 4,
 "nbformat_minor": 2
}
