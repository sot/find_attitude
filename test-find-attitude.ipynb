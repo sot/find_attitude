{
 "cells": [
  {
   "cell_type": "code",
   "execution_count": 1,
   "metadata": {},
   "outputs": [],
   "source": [
    "import pickle\n",
    "import sys\n",
    "from pathlib import Path\n",
    "\n",
    "sys.path.insert(0, \"/Users/aldcroft/git/ska_sun\")\n",
    "sys.path.insert(0, \"/Users/aldcroft/git/ska_helpers\")\n",
    "\n",
    "import astropy.units as u\n",
    "import numpy as np\n",
    "import ska_sun\n",
    "from cxotime import CxoTime\n",
    "from Quaternion import Quat\n",
    "from ska_helpers.utils import random_radec_in_cone\n",
    "from tqdm import tqdm\n",
    "\n",
    "import find_attitude as fa\n",
    "from find_attitude.tests import test_find_attitude"
   ]
  },
  {
   "cell_type": "code",
   "execution_count": 2,
   "metadata": {},
   "outputs": [],
   "source": [
    "np.random.seed(0)"
   ]
  },
  {
   "cell_type": "code",
   "execution_count": 3,
   "metadata": {},
   "outputs": [],
   "source": [
    "def get_random_attitude(constraints: fa.Constraints) -> Quat:\n",
    "    \"\"\"\n",
    "    Generates a random attitude based on the given constraints.\n",
    "\n",
    "    Parameters\n",
    "    ----------\n",
    "    constraints : fa.Constraints\n",
    "        The constraints for generating the attitude.\n",
    "\n",
    "    Returns\n",
    "    -------\n",
    "    Quat\n",
    "        Randomly generated attitude.\n",
    "\n",
    "    \"\"\"\n",
    "    date = constraints.date\n",
    "\n",
    "    # Back off from constraint off_nom_roll_max by 0.5 degrees to avoid randomly\n",
    "    # generating an attitude that is too close to the constraint.\n",
    "    onrm = max(0.0, constraints.off_nom_roll_max - 0.5)\n",
    "    off_nom_roll = np.random.uniform(-onrm, onrm)\n",
    "\n",
    "    if constraints.att is not None:\n",
    "        att0 = Quat(constraints.att)\n",
    "        # Back off from constraint att_radius by 0.5 degrees (same as off_nom_roll).\n",
    "        att_radius = max(0.0, constraints.att_radius - 0.5)\n",
    "        ra, dec = random_radec_in_cone(att0.ra, att0.dec, att_radius)\n",
    "        roll0 = ska_sun.nominal_roll(ra, dec, time=date)\n",
    "        roll = roll0 + off_nom_roll\n",
    "        att = Quat([ra, dec, roll])\n",
    "\n",
    "    elif constraints.normal_sun:\n",
    "        normal_sun_radius = max(0.0, constraints.normal_sun_radius - 0.5)\n",
    "        d_pitch = np.random.uniform(normal_sun_radius, normal_sun_radius)\n",
    "        pitch = constraints.normal_sun_pitch + d_pitch\n",
    "        yaw = np.random.uniform(0, 360)\n",
    "        att = ska_sun.get_att_for_sun_pitch_yaw(\n",
    "            pitch, yaw, time=date, off_nom_roll=off_nom_roll\n",
    "        )\n",
    "\n",
    "    else:\n",
    "        ra = np.random.uniform(0, 360)\n",
    "        dec = np.rad2deg(np.arccos(np.random.uniform(-1, 1))) - 90\n",
    "        roll = ska_sun.nominal_roll(ra, dec, time=date) + off_nom_roll\n",
    "        att = Quat([ra, dec, roll])\n",
    "\n",
    "    return att"
   ]
  },
  {
   "cell_type": "code",
   "execution_count": 4,
   "metadata": {},
   "outputs": [],
   "source": [
    "def test_random_all_sky(\n",
    "    sigma_1axis=0.4,\n",
    "    sigma_mag=0.2,\n",
    "    brightest=True,\n",
    "    date=\"2025:001\",\n",
    "    constraints=None,\n",
    "    min_stars=4,\n",
    "    max_stars=8,\n",
    "):\n",
    "    if constraints is None:\n",
    "        constraints = fa.Constraints(off_nom_roll_max=20, date=date, normal_sun=False)\n",
    "\n",
    "    n_stars = np.random.randint(min_stars, max_stars + 1)\n",
    "\n",
    "    while True:\n",
    "        att = get_random_attitude(constraints)\n",
    "        stars = test_find_attitude.get_stars(\n",
    "            att.ra,\n",
    "            att.dec,\n",
    "            att.roll,\n",
    "            sigma_1axis=sigma_1axis,\n",
    "            sigma_mag=sigma_mag,\n",
    "            brightest=brightest,\n",
    "            date=date,\n",
    "        )\n",
    "        if len(stars) >= n_stars:\n",
    "            break\n",
    "\n",
    "    stars = stars[:n_stars]\n",
    "    solutions = fa.find_attitude_solutions(\n",
    "        stars, constraints=constraints, log_level=\"WARNING\", sherpa_log_level=\"WARNING\"\n",
    "    )\n",
    "\n",
    "    for solution in solutions:\n",
    "        solution[\"att\"] = att\n",
    "\n",
    "    try:\n",
    "        test_find_attitude.check_output(solutions, stars, att.ra, att.dec, att.roll)\n",
    "    except Exception:\n",
    "        failed_test = {\n",
    "            \"stars\": stars,\n",
    "            \"solutions\": solutions,\n",
    "            \"att\": att,\n",
    "            \"constraints\": constraints,\n",
    "        }\n",
    "        now = CxoTime.now().isot\n",
    "        fn = Path(f\"failed_test_{now}.pkl\")\n",
    "        print(f\"Saving failed test to {fn.absolute()}\")\n",
    "        with open(fn, \"wb\") as fh:\n",
    "            pickle.dump(failed_test, fh)"
   ]
  },
  {
   "cell_type": "code",
   "execution_count": 5,
   "metadata": {},
   "outputs": [],
   "source": [
    "# Estimated OBC attitude at 2024:036:03:03:50.481 during NSM recovery\n",
    "date_nsm = \"2024:036:03:03:50.481\"\n",
    "q_att_nsm = Quat([-0.061655608, -0.054312481, 0.920848154, 0.381165866])"
   ]
  },
  {
   "cell_type": "code",
   "execution_count": 6,
   "metadata": {},
   "outputs": [],
   "source": [
    "n_test = 100"
   ]
  },
  {
   "cell_type": "markdown",
   "metadata": {},
   "source": [
    "### Test random all-sky with attitude constraint and three stars"
   ]
  },
  {
   "cell_type": "code",
   "execution_count": 7,
   "metadata": {},
   "outputs": [
    {
     "name": "stderr",
     "output_type": "stream",
     "text": [
      "  0%|          | 0/100 [00:00<?, ?it/s]"
     ]
    },
    {
     "name": "stderr",
     "output_type": "stream",
     "text": [
      "100%|██████████| 100/100 [00:23<00:00,  4.32it/s]\n"
     ]
    }
   ],
   "source": [
    "for _ in tqdm(range(n_test)):\n",
    "    # Get a random sun-pointed attitude anywhere on the sky for a time in 2024 or 2025\n",
    "    constraints_all_sky = fa.Constraints(\n",
    "        off_nom_roll_max=0.0,\n",
    "        date=CxoTime(\"2024:001\") + np.random.uniform(0, 2) * u.yr,\n",
    "    )\n",
    "    att_est = get_random_attitude(constraints_all_sky)\n",
    "\n",
    "    # Now run find attitude test with this constraint where the test attitude will be\n",
    "    # randomized consistent with the constraints. This selects stars at an attitude\n",
    "    # which is randomly displaced from the estimated attitude.\n",
    "    constraints = fa.Constraints(\n",
    "        off_nom_roll_max=1.0,\n",
    "        date=constraints_all_sky.date,\n",
    "        att=att_est,\n",
    "        att_radius=4.0,\n",
    "    )\n",
    "    test_random_all_sky(constraints=constraints, min_stars=3, max_stars=3)"
   ]
  },
  {
   "cell_type": "markdown",
   "metadata": {},
   "source": [
    "### Random attitude on sky with no constraints\n",
    "\n",
    "- This uses between 4 to 8 stars (randomly selected) for each attitude.\n",
    "- Attitude is random except `off_nominal_roll < 1.0`."
   ]
  },
  {
   "cell_type": "code",
   "execution_count": 8,
   "metadata": {},
   "outputs": [
    {
     "name": "stderr",
     "output_type": "stream",
     "text": [
      "100%|██████████| 100/100 [02:26<00:00,  1.46s/it]\n"
     ]
    }
   ],
   "source": [
    "for _ in tqdm(range(n_test)):\n",
    "    test_random_all_sky(constraints=None)"
   ]
  },
  {
   "cell_type": "markdown",
   "metadata": {},
   "source": [
    "### Random attitude constraint to pitch near 160 degrees"
   ]
  },
  {
   "cell_type": "code",
   "execution_count": 9,
   "metadata": {},
   "outputs": [
    {
     "name": "stderr",
     "output_type": "stream",
     "text": [
      "100%|██████████| 100/100 [00:25<00:00,  3.98it/s]\n"
     ]
    }
   ],
   "source": [
    "for _ in tqdm(range(n_test)):\n",
    "    constraints = fa.Constraints(\n",
    "        off_nom_roll_max=1.0,\n",
    "        date=CxoTime(\"2024:001\") + np.random.uniform(0, 2) * u.yr,\n",
    "        normal_sun=True,\n",
    "        normal_sun_pitch=160,\n",
    "    )\n",
    "    test_random_all_sky(constraints=constraints, min_stars=3, max_stars=3)"
   ]
  },
  {
   "cell_type": "code",
   "execution_count": 10,
   "metadata": {},
   "outputs": [],
   "source": [
    "# sols = fa.find_attitude_solutions(\n",
    "#     stars_manual, constraints=constraints_manual, tolerance=3.5\n",
    "# )\n",
    "# print(f\"Found {len(sols)} solutions\")\n",
    "# sols"
   ]
  },
  {
   "cell_type": "markdown",
   "metadata": {},
   "source": [
    "### Debug a failed solution"
   ]
  },
  {
   "cell_type": "code",
   "execution_count": 11,
   "metadata": {},
   "outputs": [],
   "source": [
    "# fn = \"failed_test_2024-08-05T11:03:01.043.pkl\"\n",
    "# fn = \"failed_test_2024-08-05T17:30:22.539.pkl\"\n",
    "# fn = \"failed_test_2024-08-05T20:29:57.752.pkl\"\n",
    "# if Path(fn).exists():\n",
    "#     fail = pickle.load(open(fn, \"rb\"))\n",
    "#     sols = fa.find_attitude_solutions(\n",
    "#         fail[\"stars\"],\n",
    "#         constraints=fail[\"constraints\"],\n",
    "#         log_level=\"DEBUG\",\n",
    "#         sherpa_log_level=\"INFO\",\n",
    "#     )"
   ]
  },
  {
   "cell_type": "code",
   "execution_count": null,
   "metadata": {},
   "outputs": [],
   "source": []
  }
 ],
 "metadata": {
  "kernelspec": {
   "display_name": "Python 3",
   "language": "python",
   "name": "python3"
  },
  "language_info": {
   "codemirror_mode": {
    "name": "ipython",
    "version": 3
   },
   "file_extension": ".py",
   "mimetype": "text/x-python",
   "name": "python",
   "nbconvert_exporter": "python",
   "pygments_lexer": "ipython3",
   "version": "3.11.8"
  }
 },
 "nbformat": 4,
 "nbformat_minor": 2
}
